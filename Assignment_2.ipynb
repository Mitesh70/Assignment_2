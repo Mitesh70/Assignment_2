{
 "cells": [
  {
   "cell_type": "markdown",
   "id": "e88ccfe0",
   "metadata": {},
   "source": [
    "## Ques 1. Write a Python program to remove duplicates from a list.¶\n"
   ]
  },
  {
   "cell_type": "code",
   "execution_count": 60,
   "id": "58010672",
   "metadata": {},
   "outputs": [
    {
     "name": "stdout",
     "output_type": "stream",
     "text": [
      "List After removing duplicates  {1, 2, 3, 4, 5, 6}\n"
     ]
    }
   ],
   "source": [
    "my_list = [1, 2, 3, 1, 2, 4, 5, 4 ,6, 2]\n",
    "list2=set(my_list)\n",
    "print(\"List After removing duplicates \", list2)"
   ]
  },
  {
   "cell_type": "markdown",
   "id": "a5f31855",
   "metadata": {},
   "source": [
    "## Ques 2. Write a Python program to combine two dictionary adding values for common keys\n",
    "d1 = {'a': 100, 'b': 200, 'c':300}¶\n",
    "d2 = {'a': 300, 'b': 200, 'd':400}¶\n",
    "Sample output: Counter({'a': 400, 'b': 400, 'd': 400, 'c': 300})¶\n"
   ]
  },
  {
   "cell_type": "code",
   "execution_count": 2,
   "id": "e7e98e49",
   "metadata": {},
   "outputs": [
    {
     "name": "stdout",
     "output_type": "stream",
     "text": [
      "Counter({'a': 400, 'b': 400, 'd': 400, 'c': 300})\n"
     ]
    }
   ],
   "source": [
    "from collections import Counter\n",
    "d1 = {'a': 100, 'b': 200, 'c':300}\n",
    "d2 = {'a': 300, 'b': 200, 'd':400}\n",
    "d = Counter(d1) + Counter(d2)\n",
    "print(d)"
   ]
  },
  {
   "cell_type": "markdown",
   "id": "05bcbdf1",
   "metadata": {},
   "source": [
    "## Ques 3.Write a Python program to convert a tuple to a string"
   ]
  },
  {
   "cell_type": "code",
   "execution_count": 61,
   "id": "d26c8a8f",
   "metadata": {},
   "outputs": [
    {
     "name": "stdout",
     "output_type": "stream",
     "text": [
      "mitesh\n"
     ]
    }
   ],
   "source": [
    "tup1 = ('m','i','t','e','s','h')\n",
    "\n",
    "# Use str.join() to convert tuple to string.\n",
    "str = ''.join(tup1)\n",
    "print (str)"
   ]
  },
  {
   "cell_type": "markdown",
   "id": "13d490b0",
   "metadata": {},
   "source": [
    "## Ques 4.Write a Python program to remove item(s) from set"
   ]
  },
  {
   "cell_type": "code",
   "execution_count": 63,
   "id": "3d776233",
   "metadata": {},
   "outputs": [
    {
     "name": "stdout",
     "output_type": "stream",
     "text": [
      "{'sagar', 'mitesh'}\n"
     ]
    }
   ],
   "source": [
    "theset = {\"mitesh\", \"sagar\", \"vikash\"}\n",
    "\n",
    "theset.remove(\"vikash\")\n",
    "\n",
    "print(theset)"
   ]
  },
  {
   "cell_type": "markdown",
   "id": "c4781ae1",
   "metadata": {},
   "source": [
    "## Ques 5. Write a Python program to create a symmetric difference"
   ]
  },
  {
   "cell_type": "code",
   "execution_count": 6,
   "id": "f67bc4fc",
   "metadata": {},
   "outputs": [
    {
     "name": "stdout",
     "output_type": "stream",
     "text": [
      "{'a', 'b', 'e'}\n",
      "{'a', 'b', 'e'}\n",
      "{'b', 'c', 'd', 'a'}\n",
      "{'c', 'd', 'e'}\n"
     ]
    }
   ],
   "source": [
    "A = {'a', 'b', 'c', 'd'}\n",
    "B = {'c', 'd', 'e' }\n",
    "C = {}\n",
    "\n",
    "print(A.symmetric_difference(B))\n",
    "print(B.symmetric_difference(A))\n",
    "\n",
    "print(A.symmetric_difference(C))\n",
    "print(B.symmetric_difference(C))"
   ]
  },
  {
   "cell_type": "markdown",
   "id": "2a65f6f3",
   "metadata": {},
   "source": [
    "## Ques 6.Write a Python program to construct the following pattern, using a nested for loop."
   ]
  },
  {
   "cell_type": "code",
   "execution_count": 66,
   "id": "ae5e81a0",
   "metadata": {},
   "outputs": [
    {
     "name": "stdout",
     "output_type": "stream",
     "text": [
      "*\n",
      "  \n",
      "  \n",
      "*\n",
      "  \n",
      "  \n",
      "*\n",
      "  \n",
      "  \n",
      "*\n",
      "  \n",
      "  \n",
      "*\n",
      "  \n",
      "  \n",
      "*\n",
      "  \n",
      "  \n",
      "*\n",
      "  \n",
      "  \n",
      "*\n",
      "  \n",
      "  \n",
      "*\n",
      "  \n",
      "  \n",
      "*\n",
      "  \n",
      "  \n"
     ]
    }
   ],
   "source": [
    "for i in range(10):\n",
    "    print(\"*\")\n",
    "    for j in range(2):\n",
    "        print(\"  \")"
   ]
  },
  {
   "cell_type": "markdown",
   "id": "17e32dcc",
   "metadata": {},
   "source": [
    "## Ques 7. Write a Python program to get the Fibonacci series between 0 to 50."
   ]
  },
  {
   "cell_type": "code",
   "execution_count": 67,
   "id": "ebb476ea",
   "metadata": {},
   "outputs": [],
   "source": [
    "def fibonacci():\n",
    "    i=0\n",
    "    j=1\n",
    "    n=50\n",
    "    print(i)\n",
    "    print(j)\n",
    "    for x in range(1,n):\n",
    "        k=i+j\n",
    "        i=j\n",
    "        j=k\n",
    "        if(j<50):\n",
    "            print(j,\"\")    "
   ]
  },
  {
   "cell_type": "code",
   "execution_count": 68,
   "id": "a5c7c8ef",
   "metadata": {},
   "outputs": [
    {
     "name": "stdout",
     "output_type": "stream",
     "text": [
      "0\n",
      "1\n",
      "1 \n",
      "2 \n",
      "3 \n",
      "5 \n",
      "8 \n",
      "13 \n",
      "21 \n",
      "34 \n"
     ]
    }
   ],
   "source": [
    "fibonacci()"
   ]
  },
  {
   "cell_type": "code",
   "execution_count": null,
   "id": "b5f746bf",
   "metadata": {},
   "outputs": [],
   "source": []
  }
 ],
 "metadata": {
  "kernelspec": {
   "display_name": "Python 3",
   "language": "python",
   "name": "python3"
  },
  "language_info": {
   "codemirror_mode": {
    "name": "ipython",
    "version": 3
   },
   "file_extension": ".py",
   "mimetype": "text/x-python",
   "name": "python",
   "nbconvert_exporter": "python",
   "pygments_lexer": "ipython3",
   "version": "3.8.8"
  }
 },
 "nbformat": 4,
 "nbformat_minor": 5
}
